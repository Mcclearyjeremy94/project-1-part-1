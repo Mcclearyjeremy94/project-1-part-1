{
  "nbformat": 4,
  "nbformat_minor": 0,
  "metadata": {
    "colab": {
      "provenance": [],
      "authorship_tag": "ABX9TyPRqTnRDgpNyQPOoFqhofXH",
      "include_colab_link": true
    },
    "kernelspec": {
      "name": "python3",
      "display_name": "Python 3"
    },
    "language_info": {
      "name": "python"
    }
  },
  "cells": [
    {
      "cell_type": "markdown",
      "metadata": {
        "id": "view-in-github",
        "colab_type": "text"
      },
      "source": [
        "<a href=\"https://colab.research.google.com/github/Mcclearyjeremy94/project-1-part-1/blob/main/Project_part_1.ipynb\" target=\"_parent\"><img src=\"https://colab.research.google.com/assets/colab-badge.svg\" alt=\"Open In Colab\"/></a>"
      ]
    },
    {
      "cell_type": "markdown",
      "source": [
        "# Project 1: Changing the World Via Python\n",
        "Jeremy McCleary\n",
        "## Introduction\n",
        "Our goal is to produce helpful analysis of sales for each item sold by a group\n",
        "of stores.\n",
        "## The Data:\n",
        "- The source of the data used in this project was from Kaggle\n",
        "- [Kaggle Link](https://www.kaggle.com/datasets/shivan118/\n",
        "big-mart-sales-prediction-datasets?select-train.csv/)"
      ],
      "metadata": {
        "id": "gNWPeq34UqBy"
      }
    },
    {
      "cell_type": "markdown",
      "source": [
        "# this is a h1 header\n",
        "## this is a h2 header\n",
        "### this is a h3 header\n",
        "#### this is a h4 header\n"
      ],
      "metadata": {
        "id": "U5VXrTFaVYE0"
      }
    },
    {
      "cell_type": "markdown",
      "source": [
        "- this is the first(outer) bullet\n",
        "  - this is an inner nested bullet\n",
        "    - this is  an even more nested bullet. (sub-sub-bullet)\n",
        "  - this is an inner nested bullet too.\n"
      ],
      "metadata": {
        "id": "QMcylJJhVnps"
      }
    },
    {
      "cell_type": "markdown",
      "source": [
        "- This is the first (outer) bullet\n",
        "      - This bullet is tabbed over twice and will not work.\n",
        "     - Every following bullet will also be not rendered correctly."
      ],
      "metadata": {
        "id": "E1ciDZHiWF9F"
      }
    },
    {
      "cell_type": "markdown",
      "source": [
        "1. Number one\n",
        "3. Number two\n",
        "5. Number three"
      ],
      "metadata": {
        "id": "Q9usV3OyWcCk"
      }
    },
    {
      "cell_type": "markdown",
      "source": [
        "- to Do's\n",
        "  - [x] add checkboxes!\n",
        "  - [] solve world hunger"
      ],
      "metadata": {
        "id": "KqccVUsEWvnX"
      }
    },
    {
      "cell_type": "markdown",
      "source": [
        "In this sentence, **only these three** words will be bolded"
      ],
      "metadata": {
        "id": "uQ3OqOucXEc6"
      }
    },
    {
      "cell_type": "markdown",
      "source": [
        "In this sentence, *only these three* words will be italicized"
      ],
      "metadata": {
        "id": "dUsimqP4XRYI"
      }
    },
    {
      "cell_type": "markdown",
      "source": [
        "In this sentence, ***only these three*** words will be bold and italicized"
      ],
      "metadata": {
        "id": "m71VNDP2XeGQ"
      }
    },
    {
      "cell_type": "markdown",
      "source": [
        "The best online coding boot camp is ~~someone else~~ Coding dojo"
      ],
      "metadata": {
        "id": "AFRvpPfQXtJf"
      }
    },
    {
      "cell_type": "markdown",
      "source": [
        "[This text will be displayed as the link]((https://colab.research.google.com/)"
      ],
      "metadata": {
        "id": "ok-tVciaX9N0"
      }
    },
    {
      "cell_type": "markdown",
      "source": [
        "![](https://upload.wikimedia.org/wikipedia/commons/4/41/Coding_Dojo.png)"
      ],
      "metadata": {
        "id": "YtfIK_6EYU8j"
      }
    },
    {
      "cell_type": "markdown",
      "source": [
        "> this sentence will be a quatation\n"
      ],
      "metadata": {
        "id": "Vn3unDr9Yjol"
      }
    },
    {
      "cell_type": "markdown",
      "source": [
        "text above the line \n",
        "\n",
        "---\n",
        "\n",
        "text below the line"
      ],
      "metadata": {
        "id": "6wFGi_SUY3NP"
      }
    },
    {
      "cell_type": "markdown",
      "source": [],
      "metadata": {
        "id": "0ExtgtfAZGKy"
      }
    }
  ]
}